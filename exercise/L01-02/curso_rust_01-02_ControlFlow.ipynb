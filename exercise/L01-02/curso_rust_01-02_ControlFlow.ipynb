{
 "cells": [
  {
   "cell_type": "markdown",
   "metadata": {},
   "source": [
    "Ejemplos del Uso de la Sentencia IF"
   ]
  },
  {
   "cell_type": "code",
   "execution_count": 3,
   "metadata": {},
   "outputs": [
    {
     "name": "stdout",
     "output_type": "stream",
     "text": [
      "The value of number is: 10\n"
     ]
    }
   ],
   "source": [
    "//Ejemplo if en una sentencia let\n",
    "let condition = true;\n",
    "let number = if condition { 10 } else { 6 };\n",
    "\n",
    "println!(\"The value of number is: {}\",number);"
   ]
  },
  {
   "cell_type": "code",
   "execution_count": 18,
   "metadata": {},
   "outputs": [
    {
     "name": "stdout",
     "output_type": "stream",
     "text": [
      ", and is a small number, increase ten-fold\n",
      "5 -> 50\n"
     ]
    }
   ],
   "source": [
    "//Ejemplo if anidado\n",
    "let n = 5;\n",
    "\n",
    "let big_n =\n",
    "    if n < 10 && n > -10 {\n",
    "        println!(\"increase ten-fold\");\n",
    "        // This expression returns an `i32`.\n",
    "        10 * n\n",
    "    } else {\n",
    "        println!(\"halve the number\");\n",
    "        // This expression must return an `i32` as well.\n",
    "        n / 2\n",
    "        // TODO ^ Try suppressing this expression with a semicolon.\n",
    "    };\n",
    "//   ^ Don't forget to put a semicolon here! All `let` bindings need it.\n",
    "println!(\"{} -> {}\", n, big_n);"
   ]
  },
  {
   "cell_type": "code",
   "execution_count": 17,
   "metadata": {},
   "outputs": [
    {
     "name": "stdout",
     "output_type": "stream",
     "text": [
      "5 is positive, and is a small number, increase ten-fold\n",
      "5 -> 50\n"
     ]
    }
   ],
   "source": [
    "let n = 5;\n",
    "\n",
    "if n < 0 {\n",
    "    print!(\"{} is negative\", n);\n",
    "} else if n > 0 {\n",
    "    print!(\"{} is positive\", n);\n",
    "} else {\n",
    "    print!(\"{} is zero\", n);\n",
    "}\n",
    "\n",
    "let big_n =\n",
    "    if n < 10 && n > -10 {\n",
    "        println!(\", and is a small number, increase ten-fold\");\n",
    "        // This expression returns an `i32`.\n",
    "        10 * n\n",
    "    } else {\n",
    "        println!(\", and is a big number, halve the number\");\n",
    "        // This expression must return an `i32` as well.\n",
    "        n / 2\n",
    "        // TODO ^ Try suppressing this expression with a semicolon.\n",
    "    };\n",
    "//   ^ Don't forget to put a semicolon here! All `let` bindings need it.\n",
    "\n",
    "println!(\"{} -> {}\", n, big_n);"
   ]
  },
  {
   "cell_type": "code",
   "execution_count": null,
   "metadata": {},
   "outputs": [],
   "source": [
    "Ejemplos del Uso de la Sentencia Loop"
   ]
  },
  {
   "cell_type": "code",
   "execution_count": 5,
   "metadata": {
    "scrolled": true
   },
   "outputs": [
    {
     "name": "stdout",
     "output_type": "stream",
     "text": [
      "Let's count until infinity!\n",
      "1\n",
      "2\n",
      "three\n",
      "4\n",
      "5\n",
      "OK, that's enough\n"
     ]
    },
    {
     "data": {
      "text/plain": [
       "()"
      ]
     },
     "execution_count": 5,
     "metadata": {},
     "output_type": "execute_result"
    }
   ],
   "source": [
    "//Ejemplo loop\n",
    "let mut count = 0u32;\n",
    "\n",
    "println!(\"Let's count until infinity!\");\n",
    "\n",
    "// Infinite loop\n",
    "loop {\n",
    "    count += 1;\n",
    "    if count == 3 {\n",
    "        println!(\"three\");\n",
    "        // Skip the rest of this iteration\n",
    "        continue;\n",
    "    }\n",
    "    println!(\"{}\", count);\n",
    "    if count == 5 {\n",
    "        println!(\"OK, that's enough\");\n",
    "        // Exit this loop\n",
    "        break;\n",
    "    }\n",
    "}"
   ]
  },
  {
   "cell_type": "code",
   "execution_count": 3,
   "metadata": {},
   "outputs": [
    {
     "name": "stdout",
     "output_type": "stream",
     "text": [
      "count = 0\n",
      "remaining = 10\n",
      "remaining = 9\n",
      "count = 1\n",
      "remaining = 10\n",
      "remaining = 9\n",
      "count = 2\n",
      "remaining = 10\n",
      "End count = 2\n"
     ]
    }
   ],
   "source": [
    "let mut count = 0;\n",
    "'counting_up: loop {\n",
    "    println!(\"count = {}\",count);\n",
    "    let mut remaining = 10;\n",
    "\n",
    "    loop {\n",
    "        println!(\"remaining = {}\",remaining);\n",
    "        if remaining == 9 {\n",
    "            break;\n",
    "        }\n",
    "        if count == 2 {\n",
    "            break 'counting_up;\n",
    "        }\n",
    "        remaining -= 1;\n",
    "    }\n",
    "\n",
    "    count += 1;\n",
    "}\n",
    "println!(\"End count = {}\",count);"
   ]
  },
  {
   "cell_type": "code",
   "execution_count": 10,
   "metadata": {},
   "outputs": [
    {
     "name": "stdout",
     "output_type": "stream",
     "text": [
      "3!\n",
      "2!\n",
      "1!\n",
      "LIFTOFF!!!\n"
     ]
    }
   ],
   "source": [
    "let mut number = 3;\n",
    "\n",
    "while number != 0 {\n",
    "    println!(\"{}!\",number);\n",
    "    number -= 1;\n",
    "}\n",
    "\n",
    "println!(\"LIFTOFF!!!\");"
   ]
  },
  {
   "cell_type": "code",
   "execution_count": 4,
   "metadata": {},
   "outputs": [
    {
     "name": "stdout",
     "output_type": "stream",
     "text": [
      "1\n",
      "2\n",
      "fizz\n",
      "4\n",
      "buzz\n",
      "fizz\n",
      "7\n",
      "8\n",
      "fizz\n",
      "buzz\n",
      "11\n",
      "fizz\n",
      "13\n",
      "14\n",
      "fizzbuzz\n",
      "16\n",
      "17\n",
      "fizz\n",
      "19\n",
      "buzz\n",
      "fizz\n",
      "22\n",
      "23\n",
      "fizz\n",
      "buzz\n",
      "26\n",
      "fizz\n",
      "28\n",
      "29\n",
      "fizzbuzz\n",
      "31\n",
      "32\n",
      "fizz\n",
      "34\n",
      "buzz\n",
      "fizz\n",
      "37\n",
      "38\n",
      "fizz\n",
      "buzz\n",
      "41\n",
      "fizz\n",
      "43\n",
      "44\n",
      "fizzbuzz\n",
      "46\n",
      "47\n",
      "fizz\n",
      "49\n",
      "buzz\n",
      "fizz\n"
     ]
    },
    {
     "data": {
      "text/plain": [
       "()"
      ]
     },
     "execution_count": 4,
     "metadata": {},
     "output_type": "execute_result"
    },
    {
     "name": "stdout",
     "output_type": "stream",
     "text": [
      "52\n",
      "53\n",
      "fizz\n",
      "buzz\n",
      "56\n",
      "fizz\n",
      "58\n",
      "59\n",
      "fizzbuzz\n",
      "61\n",
      "62\n",
      "fizz\n",
      "64\n",
      "buzz\n",
      "fizz\n",
      "67\n",
      "68\n",
      "fizz\n",
      "buzz\n",
      "71\n",
      "fizz\n",
      "73\n",
      "74\n",
      "fizzbuzz\n",
      "76\n",
      "77\n",
      "fizz\n",
      "79\n",
      "buzz\n",
      "fizz\n",
      "82\n",
      "83\n",
      "fizz\n",
      "buzz\n",
      "86\n",
      "fizz\n",
      "88\n",
      "89\n",
      "fizzbuzz\n",
      "91\n",
      "92\n",
      "fizz\n",
      "94\n",
      "buzz\n",
      "fizz\n",
      "97\n",
      "98\n",
      "fizz\n",
      "buzz\n"
     ]
    }
   ],
   "source": [
    "for n in 1..101 {\n",
    "    if n % 15 == 0 {\n",
    "        println!(\"fizzbuzz\");\n",
    "    } else if n % 3 == 0 {\n",
    "        println!(\"fizz\");\n",
    "    } else if n % 5 == 0 {\n",
    "        println!(\"buzz\");\n",
    "    } else {\n",
    "        println!(\"{}\", n);\n",
    "    }\n",
    "}"
   ]
  },
  {
   "cell_type": "code",
   "execution_count": 20,
   "metadata": {
    "scrolled": true
   },
   "outputs": [
    {
     "name": "stdout",
     "output_type": "stream",
     "text": [
      "1\n",
      "2\n",
      "fizz\n",
      "4\n",
      "buzz\n",
      "fizz\n",
      "7\n",
      "8\n",
      "fizz\n",
      "buzz\n",
      "11\n",
      "fizz\n",
      "13\n",
      "14\n",
      "fizzbuzz\n",
      "16\n",
      "17\n",
      "fizz\n",
      "19\n",
      "buzz\n",
      "fizz\n",
      "22\n",
      "23\n",
      "fizz\n",
      "buzz\n",
      "26\n",
      "fizz\n",
      "28\n",
      "29\n",
      "fizzbuzz\n",
      "31\n",
      "32\n",
      "fizz\n",
      "34\n",
      "buzz\n",
      "fizz\n",
      "37\n",
      "38\n",
      "fizz\n",
      "buzz\n",
      "41\n",
      "fizz\n",
      "43\n",
      "44\n",
      "fizzbuzz\n",
      "46\n",
      "47\n",
      "fizz\n",
      "49\n",
      "buzz\n",
      "fizz\n",
      "52\n",
      "53\n",
      "fizz\n"
     ]
    },
    {
     "data": {
      "text/plain": [
       "()"
      ]
     },
     "execution_count": 20,
     "metadata": {},
     "output_type": "execute_result"
    },
    {
     "name": "stdout",
     "output_type": "stream",
     "text": [
      "buzz\n",
      "56\n",
      "fizz\n",
      "58\n",
      "59\n",
      "fizzbuzz\n",
      "61\n",
      "62\n",
      "fizz\n",
      "64\n",
      "buzz\n",
      "fizz\n",
      "67\n",
      "68\n",
      "fizz\n",
      "buzz\n",
      "71\n",
      "fizz\n",
      "73\n",
      "74\n",
      "fizzbuzz\n",
      "76\n",
      "77\n",
      "fizz\n",
      "79\n",
      "buzz\n",
      "fizz\n",
      "82\n",
      "83\n",
      "fizz\n",
      "buzz\n",
      "86\n",
      "fizz\n",
      "88\n",
      "89\n",
      "fizzbuzz\n",
      "91\n",
      "92\n",
      "fizz\n",
      "94\n",
      "buzz\n",
      "fizz\n",
      "97\n",
      "98\n",
      "fizz\n",
      "buzz\n"
     ]
    }
   ],
   "source": [
    "// `n` will take the values: 1, 2, ..., 100 in each iteration\n",
    "for n in 1..=100 {\n",
    "    if n % 15 == 0 {\n",
    "        println!(\"fizzbuzz\");\n",
    "    } else if n % 3 == 0 {\n",
    "        println!(\"fizz\");\n",
    "    } else if n % 5 == 0 {\n",
    "        println!(\"buzz\");\n",
    "    } else {\n",
    "        println!(\"{}\", n);\n",
    "    }\n",
    "}"
   ]
  },
  {
   "cell_type": "code",
   "execution_count": 15,
   "metadata": {},
   "outputs": [
    {
     "name": "stdout",
     "output_type": "stream",
     "text": [
      "the value is: 10\n",
      "the value is: 20\n",
      "the value is: 30\n",
      "the value is: 40\n",
      "the value is: 50\n"
     ]
    },
    {
     "data": {
      "text/plain": [
       "()"
      ]
     },
     "execution_count": 15,
     "metadata": {},
     "output_type": "execute_result"
    }
   ],
   "source": [
    "let a = [10, 20, 30, 40, 50];\n",
    "\n",
    "for element in a.iter() {\n",
    "    println!(\"the value is: {}\",element);\n",
    "}"
   ]
  },
  {
   "cell_type": "code",
   "execution_count": 16,
   "metadata": {},
   "outputs": [
    {
     "name": "stdout",
     "output_type": "stream",
     "text": [
      "3!\n",
      "2!\n",
      "1!\n",
      "LIFTOFF!!!\n"
     ]
    }
   ],
   "source": [
    "    for number in (1..4).rev() {\n",
    "        println!(\"{}!\",number);\n",
    "    }\n",
    "    println!(\"LIFTOFF!!!\");"
   ]
  }
 ],
 "metadata": {
  "kernelspec": {
   "display_name": "Rust",
   "language": "rust",
   "name": "rust"
  },
  "language_info": {
   "codemirror_mode": "rust",
   "file_extension": ".rs",
   "mimetype": "text/rust",
   "name": "Rust",
   "pygment_lexer": "rust",
   "version": ""
  }
 },
 "nbformat": 4,
 "nbformat_minor": 2
}
