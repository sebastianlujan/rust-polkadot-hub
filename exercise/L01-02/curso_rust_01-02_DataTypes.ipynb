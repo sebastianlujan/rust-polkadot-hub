{
 "cells": [
  {
   "cell_type": "code",
   "execution_count": 24,
   "metadata": {},
   "outputs": [
    {
     "ename": "Error",
     "evalue": "cannot assign twice to immutable variable `x`",
     "output_type": "error",
     "traceback": [
      "let x = 5;",
      "\u001b[91m    ^\u001b[0m \u001b[94mfirst assignment to `x`\u001b[0m",
      "x = 6;",
      "\u001b[91m^^^^^\u001b[0m \u001b[94mcannot assign twice to immutable variable\u001b[0m",
      "cannot assign twice to immutable variable `x`",
      "\u001b[1mhelp\u001b[0m: make this binding mutable\n\nmut x"
     ]
    }
   ],
   "source": [
    "let x = 5;\n",
    "println!(\"The value of x is: {}\",x);\n",
    "x = 6;\n",
    "println!(\"The value of x is: {}\",x);"
   ]
  },
  {
   "cell_type": "code",
   "execution_count": 25,
   "metadata": {},
   "outputs": [
    {
     "name": "stdout",
     "output_type": "stream",
     "text": [
      "The value of x is: 5\n",
      "The value of x is: 6\n"
     ]
    }
   ],
   "source": [
    "let mut x = 5;\n",
    "println!(\"The value of x is: {}\",x);\n",
    "x = 6;\n",
    "println!(\"The value of x is: {}\",x);"
   ]
  },
  {
   "cell_type": "code",
   "execution_count": 27,
   "metadata": {},
   "outputs": [
    {
     "name": "stdout",
     "output_type": "stream",
     "text": [
      "The value of x in the inner scope is: 12\n",
      "The value of x is: 6\n"
     ]
    }
   ],
   "source": [
    "let x = 5;\n",
    "let x = x + 1;\n",
    "{\n",
    "    let x = x * 2;\n",
    "    println!(\"The value of x in the inner scope is: {}\",x);\n",
    "}\n",
    "println!(\"The value of x is: {}\",x);"
   ]
  },
  {
   "cell_type": "code",
   "execution_count": 8,
   "metadata": {},
   "outputs": [
    {
     "name": "stdout",
     "output_type": "stream",
     "text": [
      "The value of y is: 6.4\n"
     ]
    }
   ],
   "source": [
    "// Enteros con Signo y Sin Signo\n",
    "let x = 42; // `x` has type `i32`\n",
    "let y : i32 = -30;"
   ]
  },
  {
   "cell_type": "code",
   "execution_count": null,
   "metadata": {},
   "outputs": [],
   "source": [
    "// Punto Flotante\n",
    "let xf = 2.0; // f64\n",
    "let yf: f32 = 3.0; // f32"
   ]
  },
  {
   "cell_type": "code",
   "execution_count": null,
   "metadata": {},
   "outputs": [],
   "source": [
    "// Boolean\n",
    "let t = true;\n",
    "let f: bool = false; // with explicit type annotation"
   ]
  },
  {
   "cell_type": "code",
   "execution_count": 28,
   "metadata": {},
   "outputs": [],
   "source": [
    "// Char\n",
    "let c = 'z';\n",
    "let z: char = 'ℤ'; // with explicit type annotation\n",
    "let heart_eyed_cat = '😻';"
   ]
  },
  {
   "cell_type": "code",
   "execution_count": 29,
   "metadata": {},
   "outputs": [
    {
     "name": "stdout",
     "output_type": "stream",
     "text": [
      "The value of y is: 6.4\n"
     ]
    }
   ],
   "source": [
    "// Tuplas\n",
    "let tup: (i32, f64, u8) = (500, 6.4, 1);\n",
    "let tup = (500, 6.4, 1);\n",
    "\n",
    "let (x, y, z) = tup;\n",
    "\n",
    "println!(\"The value of y is: {}\", y);\n",
    "\n",
    "let xtuple: (i32, f64, u8) = (500, 6.4, 1);\n",
    "let five_hundred = xtuple.0;\n",
    "let six_point_four = xtuple.1;\n",
    "let one = xtuple.2;"
   ]
  },
  {
   "cell_type": "code",
   "execution_count": null,
   "metadata": {},
   "outputs": [],
   "source": [
    "let a = [1, 2, 3]; // a: [i32; 3]\n",
    "let mut m = [1, 2, 3]; // m: [i32; 3]"
   ]
  },
  {
   "cell_type": "code",
   "execution_count": 7,
   "metadata": {},
   "outputs": [
    {
     "data": {
      "text/plain": [
       "[0, 0, 0, 0, 0, 0, 0, 0, 0, 0, 0, 0, 0, 0, 0, 0, 0, 0, 0, 0]"
      ]
     },
     "execution_count": 7,
     "metadata": {},
     "output_type": "execute_result"
    }
   ],
   "source": [
    "// Inicialización de todos los elementos de un Arreglo\n",
    "let a = [0; 20]; // a: [i32; 20]\n",
    "a"
   ]
  },
  {
   "cell_type": "code",
   "execution_count": 4,
   "metadata": {},
   "outputs": [
    {
     "name": "stdout",
     "output_type": "stream",
     "text": [
      "a has 3 elements\n"
     ]
    }
   ],
   "source": [
    "// Longitud de un Arreglo\n",
    "let a = [1, 2, 3];\n",
    "println!(\"a has {} elements\", a.len());"
   ]
  },
  {
   "cell_type": "code",
   "execution_count": 5,
   "metadata": {},
   "outputs": [
    {
     "name": "stdout",
     "output_type": "stream",
     "text": [
      "The second name is: Brian\n"
     ]
    }
   ],
   "source": [
    "// Acceder a un determinado elemento de un arreglo\n",
    "let names = [\"Graydon\", \"Brian\", \"Niko\"]; \n",
    "println!(\"The second name is: {}\", names[1]);"
   ]
  },
  {
   "cell_type": "code",
   "execution_count": null,
   "metadata": {},
   "outputs": [],
   "source": [
    "let decimal = 65.4321_f32;\n",
    "\n",
    "// Error! No implicit conversion\n",
    "let integer: u8 = decimal;\n",
    "// FIXME ^ Comment out this line"
   ]
  },
  {
   "cell_type": "code",
   "execution_count": 9,
   "metadata": {},
   "outputs": [
    {
     "name": "stdout",
     "output_type": "stream",
     "text": [
      "Casting: 65.4321 -> 65 -> A\n"
     ]
    }
   ],
   "source": [
    "// Explicit conversion\n",
    "let decimal = 65.4321_f32;\n",
    "\n",
    "let integer = decimal as u8;\n",
    "let character = integer as char;\n",
    "\n",
    "println!(\"Casting: {} -> {} -> {}\", decimal, integer, character);"
   ]
  },
  {
   "cell_type": "code",
   "execution_count": 15,
   "metadata": {},
   "outputs": [
    {
     "ename": "Error",
     "evalue": "literal out of range for `i8`",
     "output_type": "error",
     "traceback": [
      "println!(\" 128 as a i8 is : {}\", 128 as i8);",
      "\u001b[91m                                 ^^^\u001b[0m \u001b[94m\u001b[0m",
      "literal out of range for `i8`"
     ]
    },
    {
     "ename": "Error",
     "evalue": "literal out of range for `u8`",
     "output_type": "error",
     "traceback": [
      "println!(\"1000 as a u8 is : {}\", 1000 as u8);",
      "\u001b[91m                                 ^^^^\u001b[0m \u001b[94m\u001b[0m",
      "literal out of range for `u8`"
     ]
    },
    {
     "ename": "Error",
     "evalue": "literal out of range for `i8`",
     "output_type": "error",
     "traceback": [
      "println!(\" 232 as a i8 is : {}\", 232 as i8);",
      "\u001b[91m                                 ^^^\u001b[0m \u001b[94m\u001b[0m",
      "literal out of range for `i8`"
     ]
    }
   ],
   "source": [
    "//Ejemplos de Conversion sobre Tipos\n",
    "\n",
    "println!(\"1000 as a u16 is: {}\", 1000 as u16);\n",
    "// println!(\"1000 as a u8 is : {}\", 1000 as u8);\n",
    "// -1 + 256 = 255\n",
    "println!(\"  -1 as a u8 is : {}\", (-1i8) as u8);\n",
    "\n",
    "// For positive numbers, this is the same as the modulus\n",
    "println!(\"1000 mod 256 is : {}\", 1000 % 256);\n",
    "\n",
    "// When casting to a signed type, the (bitwise) result is the same as\n",
    "// first casting to the corresponding unsigned type. If the most significant\n",
    "// bit of that value is 1, then the value is negative.\n",
    "\n",
    "// Unless it already fits, of course.\n",
    "println!(\" 128 as a i16 is: {}\", 128 as i16);\n",
    "    \n",
    "// 128 as u8 -> -128, whose two's complement in eight bits is:\n",
    "// println!(\" 128 as a i8 is : {}\", 128 as i8);\n",
    "\n",
    "// repeating the example above\n",
    "// 1000 as u8 -> 232\n",
    "// println!(\"1000 as a u8 is : {}\", 1000 as u8);\n",
    "// and the two's complement of 232 is -24\n",
    "// println!(\" 232 as a i8 is : {}\", 232 as i8);\n",
    "    \n",
    "// Since Rust 1.45, the `as` keyword performs a *saturating cast* \n",
    "// when casting from float to int. If the floating point value exceeds \n",
    "// the upper bound or is less than the lower bound, the returned value \n",
    "// will be equal to the bound crossed.\n",
    "    \n",
    "// 300.0 is 255\n",
    "println!(\"300.0 is {}\", 300.0_f32 as u8);\n",
    "// -100.0 as u8 is 0\n",
    "println!(\"-100.0 as u8 is {}\", -100.0_f32 as u8);\n",
    "// nan as u8 is 0\n",
    "println!(\"nan as u8 is {}\", f32::NAN as u8);\n"
   ]
  },
  {
   "cell_type": "code",
   "execution_count": 30,
   "metadata": {},
   "outputs": [
    {
     "name": "stdout",
     "output_type": "stream",
     "text": [
      "5 nanoseconds + 2 inches = 7 unit?\n"
     ]
    }
   ],
   "source": [
    "// Alias para Tipos de Datos\n",
    "type NanoSecond = u64;\n",
    "type Inch = u64;\n",
    "type U64 = u64;\n",
    "\n",
    "let nanoseconds: NanoSecond = 5 as U64;\n",
    "let inches: Inch = 2 as U64;\n",
    "\n",
    "// Note that type aliases *don't* provide any extra type safety, because\n",
    "// aliases are *not* new types\n",
    "println!(\"{} nanoseconds + {} inches = {} unit?\",\n",
    "         nanoseconds,\n",
    "         inches,\n",
    "         nanoseconds + inches);"
   ]
  }
 ],
 "metadata": {
  "kernelspec": {
   "display_name": "Rust",
   "language": "rust",
   "name": "rust"
  },
  "language_info": {
   "codemirror_mode": "rust",
   "file_extension": ".rs",
   "mimetype": "text/rust",
   "name": "Rust",
   "pygment_lexer": "rust",
   "version": ""
  }
 },
 "nbformat": 4,
 "nbformat_minor": 2
}
